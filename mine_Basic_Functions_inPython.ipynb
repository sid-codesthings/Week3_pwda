{
 "cells": [
  {
   "cell_type": "code",
   "execution_count": 1,
   "id": "65838c0d-6ac8-43d8-b251-384e361ba699",
   "metadata": {},
   "outputs": [],
   "source": [
    "# 2 types of functioins :\n",
    "# in-built functions >> print , len , type\n",
    "# user defined functions"
   ]
  },
  {
   "cell_type": "code",
   "execution_count": 2,
   "id": "ecadc5ca-a425-465c-b79b-2bee44cedff3",
   "metadata": {},
   "outputs": [],
   "source": [
    "# functions >> it is a block of code that performs some specific\n",
    "# computations.\n",
    "# It keeps the code neat and clean , organized format , reusable."
   ]
  },
  {
   "cell_type": "code",
   "execution_count": 3,
   "id": "7e481892-7c26-4f82-bded-060f59d93575",
   "metadata": {},
   "outputs": [
    {
     "data": {
      "text/plain": [
       "2"
      ]
     },
     "execution_count": 3,
     "metadata": {},
     "output_type": "execute_result"
    }
   ],
   "source": [
    "# Some more in-built functions\n",
    "\n",
    "int(2.25)"
   ]
  },
  {
   "cell_type": "code",
   "execution_count": 4,
   "id": "b982f3c4-43a4-4555-99f5-0c62741fddc7",
   "metadata": {},
   "outputs": [
    {
     "data": {
      "text/plain": [
       "2.0"
      ]
     },
     "execution_count": 4,
     "metadata": {},
     "output_type": "execute_result"
    }
   ],
   "source": [
    "float(2)"
   ]
  },
  {
   "cell_type": "code",
   "execution_count": 1,
   "id": "2171cda0-a34f-4577-a071-099cc86084c0",
   "metadata": {},
   "outputs": [
    {
     "data": {
      "text/plain": [
       "7"
      ]
     },
     "execution_count": 1,
     "metadata": {},
     "output_type": "execute_result"
    }
   ],
   "source": [
    "import math as m\n",
    "m.ceil(6.2)"
   ]
  },
  {
   "cell_type": "code",
   "execution_count": 2,
   "id": "d3449d7c-8dbe-4768-8347-fb0405e506ed",
   "metadata": {},
   "outputs": [
    {
     "data": {
      "text/plain": [
       "6"
      ]
     },
     "execution_count": 2,
     "metadata": {},
     "output_type": "execute_result"
    }
   ],
   "source": [
    "m.floor(6.3)"
   ]
  },
  {
   "cell_type": "code",
   "execution_count": 3,
   "id": "a9a764e2-4aa9-4539-b39e-03987af3c2bc",
   "metadata": {},
   "outputs": [],
   "source": [
    "# Syntax of function\n",
    "# def func()\n",
    "    # do something\n",
    "    # return"
   ]
  },
  {
   "cell_type": "code",
   "execution_count": 4,
   "id": "6669b111-57c3-494e-9266-b993aea7810e",
   "metadata": {},
   "outputs": [],
   "source": [
    "def printing(str):\n",
    "    print(\"Welcome to class\",str)"
   ]
  },
  {
   "cell_type": "code",
   "execution_count": 8,
   "id": "65b3d8fd-127c-4906-bd95-497530e1b2d7",
   "metadata": {},
   "outputs": [
    {
     "name": "stdout",
     "output_type": "stream",
     "text": [
      "Welcome to class  Rahul\n",
      "Welcome to class  Shweta\n",
      "Welcome to class  Amruta\n"
     ]
    }
   ],
   "source": [
    "printing(\"Rahul\")\n",
    "printing(\"Shweta\")\n",
    "printing(\"Amruta\")"
   ]
  },
  {
   "cell_type": "code",
   "execution_count": 1,
   "id": "0ef3ec59-d6e3-483d-9078-e95d86c06137",
   "metadata": {},
   "outputs": [],
   "source": [
    "def func():\n",
    "    print(\"this is my first function\")"
   ]
  },
  {
   "cell_type": "code",
   "execution_count": 2,
   "id": "0a6647f9-405b-4318-b9a8-d7b69446c600",
   "metadata": {},
   "outputs": [
    {
     "name": "stdout",
     "output_type": "stream",
     "text": [
      "this is my first function\n"
     ]
    }
   ],
   "source": [
    "func()"
   ]
  },
  {
   "cell_type": "code",
   "execution_count": 3,
   "id": "9abbc0f8-d71c-4852-ad49-04801f6d8091",
   "metadata": {},
   "outputs": [
    {
     "name": "stdout",
     "output_type": "stream",
     "text": [
      "this is my first function\n"
     ]
    },
    {
     "ename": "TypeError",
     "evalue": "unsupported operand type(s) for +: 'NoneType' and 'str'",
     "output_type": "error",
     "traceback": [
      "\u001b[0;31m---------------------------------------------------------------------------\u001b[0m",
      "\u001b[0;31mTypeError\u001b[0m                                 Traceback (most recent call last)",
      "Cell \u001b[0;32mIn[3], line 1\u001b[0m\n\u001b[0;32m----> 1\u001b[0m \u001b[43mfunc\u001b[49m\u001b[43m(\u001b[49m\u001b[43m)\u001b[49m\u001b[43m \u001b[49m\u001b[38;5;241;43m+\u001b[39;49m\u001b[43m \u001b[49m\u001b[38;5;124;43m\"\u001b[39;49m\u001b[38;5;124;43min Python\u001b[39;49m\u001b[38;5;124;43m\"\u001b[39;49m\n",
      "\u001b[0;31mTypeError\u001b[0m: unsupported operand type(s) for +: 'NoneType' and 'str'"
     ]
    }
   ],
   "source": [
    "func() + \"in Python\""
   ]
  },
  {
   "cell_type": "code",
   "execution_count": 4,
   "id": "98b48804-a47a-4441-80c6-8581ce3e7d3f",
   "metadata": {},
   "outputs": [],
   "source": [
    "# It is throwing error bcz we are trying to concat\n",
    "# two different data types."
   ]
  },
  {
   "cell_type": "code",
   "execution_count": 5,
   "id": "90ceb216-1854-42fc-a54c-574c09ebc031",
   "metadata": {},
   "outputs": [
    {
     "name": "stdout",
     "output_type": "stream",
     "text": [
      "this is my first function\n"
     ]
    },
    {
     "data": {
      "text/plain": [
       "NoneType"
      ]
     },
     "execution_count": 5,
     "metadata": {},
     "output_type": "execute_result"
    }
   ],
   "source": [
    "type(func())"
   ]
  },
  {
   "cell_type": "code",
   "execution_count": 6,
   "id": "45e01068-5fa9-4c2e-ada3-81d1165556e1",
   "metadata": {},
   "outputs": [],
   "source": [
    "# but \"in Python\" is string type"
   ]
  },
  {
   "cell_type": "code",
   "execution_count": 29,
   "id": "360f7438-bd85-4a20-aa4e-a8d2db975b5a",
   "metadata": {},
   "outputs": [],
   "source": [
    "# but if we use return instead of print then this problem wont\n",
    "# arise\n",
    "\n",
    "def func2():\n",
    "    return \"this is my first function\""
   ]
  },
  {
   "cell_type": "code",
   "execution_count": 30,
   "id": "bde7d490-b275-4a35-a55f-5bd6f74a19ce",
   "metadata": {},
   "outputs": [
    {
     "data": {
      "text/plain": [
       "function"
      ]
     },
     "execution_count": 30,
     "metadata": {},
     "output_type": "execute_result"
    }
   ],
   "source": [
    "type(func2)"
   ]
  },
  {
   "cell_type": "code",
   "execution_count": 9,
   "id": "a61f9a8c-6b76-46e1-954d-05332dff4047",
   "metadata": {},
   "outputs": [
    {
     "data": {
      "text/plain": [
       "'this is my first function in python'"
      ]
     },
     "execution_count": 9,
     "metadata": {},
     "output_type": "execute_result"
    }
   ],
   "source": [
    "func2() + \" in python\""
   ]
  },
  {
   "cell_type": "code",
   "execution_count": 10,
   "id": "368a86be-614e-4b70-bbcf-5e47ddf6d856",
   "metadata": {},
   "outputs": [
    {
     "name": "stdout",
     "output_type": "stream",
     "text": [
      "this is my first function in python\n"
     ]
    }
   ],
   "source": [
    "print(func2() + \" in python\") "
   ]
  },
  {
   "cell_type": "code",
   "execution_count": 11,
   "id": "37348fef-a58d-4cd6-898d-647f7d596949",
   "metadata": {},
   "outputs": [],
   "source": [
    "def func():\n",
    "    return \"hey\" , 2 , 4.5 , 3+7j , True"
   ]
  },
  {
   "cell_type": "code",
   "execution_count": 12,
   "id": "407c3ded-628d-4e06-afbf-fc197d9796ce",
   "metadata": {},
   "outputs": [
    {
     "data": {
      "text/plain": [
       "('hey', 2, 4.5, (3+7j), True)"
      ]
     },
     "execution_count": 12,
     "metadata": {},
     "output_type": "execute_result"
    }
   ],
   "source": [
    "func()"
   ]
  },
  {
   "cell_type": "code",
   "execution_count": 18,
   "id": "13989810-1e1d-4b38-8f04-30f6baccf997",
   "metadata": {},
   "outputs": [],
   "source": [
    "a = func()"
   ]
  },
  {
   "cell_type": "code",
   "execution_count": 19,
   "id": "3bb7c706-63d0-4aac-bea9-09d2e12ec030",
   "metadata": {},
   "outputs": [
    {
     "data": {
      "text/plain": [
       "tuple"
      ]
     },
     "execution_count": 19,
     "metadata": {},
     "output_type": "execute_result"
    }
   ],
   "source": [
    "type(a)"
   ]
  },
  {
   "cell_type": "code",
   "execution_count": 23,
   "id": "0ee048be-e025-4b3d-9fc2-0f73c0cd0ada",
   "metadata": {},
   "outputs": [
    {
     "data": {
      "text/plain": [
       "2"
      ]
     },
     "execution_count": 23,
     "metadata": {},
     "output_type": "execute_result"
    }
   ],
   "source": [
    "a[1]"
   ]
  },
  {
   "cell_type": "code",
   "execution_count": 20,
   "id": "df6ded45-52e3-4e85-af6e-34e711e79f21",
   "metadata": {},
   "outputs": [],
   "source": [
    "a1 , b , c , d , e = func()"
   ]
  },
  {
   "cell_type": "code",
   "execution_count": 21,
   "id": "8f21496e-7f78-49bd-98f9-08b73c9cf32e",
   "metadata": {},
   "outputs": [
    {
     "data": {
      "text/plain": [
       "'hey'"
      ]
     },
     "execution_count": 21,
     "metadata": {},
     "output_type": "execute_result"
    }
   ],
   "source": [
    "a1"
   ]
  },
  {
   "cell_type": "code",
   "execution_count": 22,
   "id": "3b525f31-cc30-457f-9951-2532ea88bd45",
   "metadata": {},
   "outputs": [
    {
     "data": {
      "text/plain": [
       "(3+7j)"
      ]
     },
     "execution_count": 22,
     "metadata": {},
     "output_type": "execute_result"
    }
   ],
   "source": [
    "d"
   ]
  },
  {
   "cell_type": "code",
   "execution_count": 24,
   "id": "7cef560d-46c9-4df0-8907-5f523d06457a",
   "metadata": {},
   "outputs": [
    {
     "data": {
      "text/plain": [
       "(3+7j)"
      ]
     },
     "execution_count": 24,
     "metadata": {},
     "output_type": "execute_result"
    }
   ],
   "source": [
    "func()[3]"
   ]
  },
  {
   "cell_type": "code",
   "execution_count": 25,
   "id": "1be508f1-1b51-47ee-8ebc-afe9b1a4afb3",
   "metadata": {},
   "outputs": [],
   "source": [
    "def func():\n",
    "    calc = 2+3+6*5\n",
    "    return calc"
   ]
  },
  {
   "cell_type": "code",
   "execution_count": 26,
   "id": "eec7b867-3bd2-4685-96ab-e720e5e7ddcf",
   "metadata": {},
   "outputs": [
    {
     "data": {
      "text/plain": [
       "35"
      ]
     },
     "execution_count": 26,
     "metadata": {},
     "output_type": "execute_result"
    }
   ],
   "source": [
    "func()"
   ]
  },
  {
   "cell_type": "code",
   "execution_count": 27,
   "id": "6b4659f8-a082-46ed-822f-9c4345e105d7",
   "metadata": {},
   "outputs": [
    {
     "data": {
      "text/plain": [
       "int"
      ]
     },
     "execution_count": 27,
     "metadata": {},
     "output_type": "execute_result"
    }
   ],
   "source": [
    "type(func())"
   ]
  },
  {
   "cell_type": "code",
   "execution_count": 31,
   "id": "673ef01e-2eb3-4a96-a640-0c900ec4c5ba",
   "metadata": {},
   "outputs": [],
   "source": [
    "def square_no(a):\n",
    "    return a*a"
   ]
  },
  {
   "cell_type": "code",
   "execution_count": 32,
   "id": "3f051197-b352-40b1-a422-827230a82ae6",
   "metadata": {},
   "outputs": [
    {
     "data": {
      "text/plain": [
       "25"
      ]
     },
     "execution_count": 32,
     "metadata": {},
     "output_type": "execute_result"
    }
   ],
   "source": [
    "square_no(5)"
   ]
  },
  {
   "cell_type": "code",
   "execution_count": 33,
   "id": "8e0460e2-aa6e-4a28-a1fd-0b36556686e2",
   "metadata": {},
   "outputs": [],
   "source": [
    "def _(a,b):\n",
    "    return a+b"
   ]
  },
  {
   "cell_type": "code",
   "execution_count": 34,
   "id": "570dd3d6-ad3c-4fcf-b050-302711d022f8",
   "metadata": {},
   "outputs": [
    {
     "data": {
      "text/plain": [
       "7"
      ]
     },
     "execution_count": 34,
     "metadata": {},
     "output_type": "execute_result"
    }
   ],
   "source": [
    "_(3,4)"
   ]
  },
  {
   "cell_type": "code",
   "execution_count": 35,
   "id": "654f17e6-dd5a-4928-9f59-5617f65d2af3",
   "metadata": {},
   "outputs": [
    {
     "data": {
      "text/plain": [
       "[1, 2, 3, 4]"
      ]
     },
     "execution_count": 35,
     "metadata": {},
     "output_type": "execute_result"
    }
   ],
   "source": [
    "_([1,2],[3,4])"
   ]
  },
  {
   "cell_type": "code",
   "execution_count": 36,
   "id": "99437622-6d94-42db-8692-8720e32a39e2",
   "metadata": {},
   "outputs": [
    {
     "data": {
      "text/plain": [
       "[3, 4, 1, 2]"
      ]
     },
     "execution_count": 36,
     "metadata": {},
     "output_type": "execute_result"
    }
   ],
   "source": [
    "_(b = [1,2] , a = [3,4])"
   ]
  },
  {
   "cell_type": "code",
   "execution_count": 37,
   "id": "54c9f572-32ef-4566-ab54-d4ca461d8d69",
   "metadata": {},
   "outputs": [
    {
     "ename": "TypeError",
     "evalue": "sum() missing 1 required positional argument: 'c'",
     "output_type": "error",
     "traceback": [
      "\u001b[0;31m---------------------------------------------------------------------------\u001b[0m",
      "\u001b[0;31mTypeError\u001b[0m                                 Traceback (most recent call last)",
      "Cell \u001b[0;32mIn[37], line 4\u001b[0m\n\u001b[1;32m      1\u001b[0m \u001b[38;5;28;01mdef\u001b[39;00m \u001b[38;5;21msum\u001b[39m(a,b,c):\n\u001b[1;32m      2\u001b[0m     \u001b[38;5;28;01mreturn\u001b[39;00m a\u001b[38;5;241m+\u001b[39mb\u001b[38;5;241m+\u001b[39mc\n\u001b[0;32m----> 4\u001b[0m \u001b[38;5;28;43msum\u001b[39;49m\u001b[43m(\u001b[49m\u001b[38;5;241;43m2\u001b[39;49m\u001b[43m,\u001b[49m\u001b[38;5;241;43m3\u001b[39;49m\u001b[43m)\u001b[49m\n",
      "\u001b[0;31mTypeError\u001b[0m: sum() missing 1 required positional argument: 'c'"
     ]
    }
   ],
   "source": [
    "def sum(a,b,c):\n",
    "    return a+b+c\n",
    "\n",
    "sum(2,3)"
   ]
  },
  {
   "cell_type": "code",
   "execution_count": 38,
   "id": "24ecd30d-460f-4c4e-b0e9-1e69a0d33732",
   "metadata": {},
   "outputs": [
    {
     "data": {
      "text/plain": [
       "5"
      ]
     },
     "execution_count": 38,
     "metadata": {},
     "output_type": "execute_result"
    }
   ],
   "source": [
    "# default argument\n",
    "\n",
    "def sum(a=0,b=0,c=0):\n",
    "    return a+b+c\n",
    "sum(2,3)"
   ]
  },
  {
   "cell_type": "code",
   "execution_count": null,
   "id": "4b473aa0-31d5-45a1-8817-ff2ca5a6de49",
   "metadata": {},
   "outputs": [],
   "source": [
    "# If any of the values are not given then it took 0 for that\n",
    "# specific variable."
   ]
  },
  {
   "cell_type": "code",
   "execution_count": 39,
   "id": "713bea74-68dc-4646-9414-ee54d8653b8d",
   "metadata": {},
   "outputs": [],
   "source": [
    "def add_two_nos():\n",
    "    a = int(input(\"enter the first no\"))\n",
    "    b = int(input(\"enter the second no\"))\n",
    "    return a+b"
   ]
  },
  {
   "cell_type": "code",
   "execution_count": 40,
   "id": "766ed43b-9f61-4ef9-93ee-206c1e127a85",
   "metadata": {},
   "outputs": [
    {
     "name": "stdin",
     "output_type": "stream",
     "text": [
      "enter the first no 5\n",
      "enter the second no 3\n"
     ]
    },
    {
     "data": {
      "text/plain": [
       "8"
      ]
     },
     "execution_count": 40,
     "metadata": {},
     "output_type": "execute_result"
    }
   ],
   "source": [
    "add_two_nos()"
   ]
  },
  {
   "cell_type": "code",
   "execution_count": 41,
   "id": "10cc5f8c-08c1-4782-a704-3163947aa62e",
   "metadata": {},
   "outputs": [
    {
     "name": "stdin",
     "output_type": "stream",
     "text": [
      "1st no =  4\n",
      "2nd no =  6\n"
     ]
    },
    {
     "data": {
      "text/plain": [
       "10"
      ]
     },
     "execution_count": 41,
     "metadata": {},
     "output_type": "execute_result"
    }
   ],
   "source": [
    "def add(a,b):\n",
    "    return a+b\n",
    "\n",
    "a = int(input(\"1st no = \"))\n",
    "b = int(input(\"2nd no = \"))\n",
    "add(a,b)"
   ]
  },
  {
   "cell_type": "code",
   "execution_count": 43,
   "id": "83876304-d1d4-484b-be68-588fcffc8802",
   "metadata": {},
   "outputs": [
    {
     "data": {
      "text/plain": [
       "[4, 5.6]"
      ]
     },
     "execution_count": 43,
     "metadata": {},
     "output_type": "execute_result"
    }
   ],
   "source": [
    "# Write a function that takes list as input and return all\n",
    "# numeric values.\n",
    "\n",
    "def list_numeric(a):\n",
    "    n = []\n",
    "    for i in a :\n",
    "        if type(i) == int or type(i) == float:\n",
    "            n.append(i)\n",
    "    return n\n",
    "\n",
    "a = [4,'sid',5.6]\n",
    "list_numeric(a)"
   ]
  },
  {
   "cell_type": "code",
   "execution_count": 45,
   "id": "c2f2f524-ce57-4a50-ae86-a5756cb0a52f",
   "metadata": {},
   "outputs": [
    {
     "data": {
      "text/plain": [
       "13"
      ]
     },
     "execution_count": 45,
     "metadata": {},
     "output_type": "execute_result"
    }
   ],
   "source": [
    "# variable length argument\n",
    "\n",
    "# Lets say we dont know how many parameters we need to pass\n",
    "# as an argument . In such a case we shall use *args.\n",
    "\n",
    "def sum(*args):\n",
    "    s = 0\n",
    "    for i in args:\n",
    "        s+=i\n",
    "    return s\n",
    "\n",
    "sum(1,4,8)"
   ]
  },
  {
   "cell_type": "code",
   "execution_count": 46,
   "id": "8cc256f6-1244-4e3c-a722-30761cbdecf7",
   "metadata": {},
   "outputs": [
    {
     "data": {
      "text/plain": [
       "(1, 2, 4.5, 'Ajay', [1, 2, 4], (1, 2, 5), True)"
      ]
     },
     "execution_count": 46,
     "metadata": {},
     "output_type": "execute_result"
    }
   ],
   "source": [
    "def test1(*args):\n",
    "    return args\n",
    "\n",
    "test1(1,2,4.5,\"Ajay\",[1,2,4],(1,2,5),True)"
   ]
  },
  {
   "cell_type": "code",
   "execution_count": 47,
   "id": "2d712c1b-9c16-40ad-b5ec-308dfb808104",
   "metadata": {},
   "outputs": [
    {
     "data": {
      "text/plain": [
       "((1, 2, 4.5, 'Ajay', [1, 2, 4], (1, 2, 5), True), False)"
      ]
     },
     "execution_count": 47,
     "metadata": {},
     "output_type": "execute_result"
    }
   ],
   "source": [
    "def test1(*args,a):\n",
    "    return args, a\n",
    "\n",
    "test1(1,2,4.5,\"Ajay\",[1,2,4],(1,2,5),True,a=False)"
   ]
  },
  {
   "cell_type": "code",
   "execution_count": 48,
   "id": "4563aa75-a504-4aba-bd5a-4428cfd14582",
   "metadata": {},
   "outputs": [],
   "source": [
    "def team(name,project):\n",
    "    return f\"{name} is working on {project}.\""
   ]
  },
  {
   "cell_type": "code",
   "execution_count": 49,
   "id": "93572d40-0ccc-427b-ad5f-9444de1a99a0",
   "metadata": {},
   "outputs": [
    {
     "data": {
      "text/plain": [
       "'Ajay is working on IR.'"
      ]
     },
     "execution_count": 49,
     "metadata": {},
     "output_type": "execute_result"
    }
   ],
   "source": [
    "team(name=\"Ajay\",project=\"IR\")"
   ]
  },
  {
   "cell_type": "code",
   "execution_count": 60,
   "id": "e890851d-f878-4415-8a29-7277a7ae9111",
   "metadata": {},
   "outputs": [],
   "source": [
    "def kwarg_func(**kwargs): # for returing key value pair of variable length in dictionary format\n",
    "    return kwargs"
   ]
  },
  {
   "cell_type": "code",
   "execution_count": 61,
   "id": "2d7c6ad5-84a1-4a0a-a363-cd108be90838",
   "metadata": {},
   "outputs": [
    {
     "data": {
      "text/plain": [
       "{'a': 2, 'b': 3, 'c': 3}"
      ]
     },
     "execution_count": 61,
     "metadata": {},
     "output_type": "execute_result"
    }
   ],
   "source": [
    "kwarg_func(a=2,b=3,c=3)"
   ]
  },
  {
   "cell_type": "code",
   "execution_count": 57,
   "id": "6aa2f858-6010-41ee-8591-c0eba04ad51d",
   "metadata": {},
   "outputs": [
    {
     "data": {
      "text/plain": [
       "{'s': 'sid', 'p': 'priya', 'r': (1, 2, 4)}"
      ]
     },
     "execution_count": 57,
     "metadata": {},
     "output_type": "execute_result"
    }
   ],
   "source": [
    "# but this kwargs is not a keyword .\n",
    "\n",
    "def kwarg1_func(**sid):\n",
    "    return sid\n",
    "\n",
    "kwarg1_func(s='sid',p='priya',r = (1,2,4))"
   ]
  },
  {
   "cell_type": "code",
   "execution_count": 67,
   "id": "6ac79738-1479-4520-a458-c6db99fca44d",
   "metadata": {},
   "outputs": [
    {
     "data": {
      "text/plain": [
       "('k', [4, 5, 6])"
      ]
     },
     "execution_count": 67,
     "metadata": {},
     "output_type": "execute_result"
    }
   ],
   "source": [
    "# Write a function which takes variable key word argument and return only the\n",
    "# values which is a list.\n",
    "\n",
    "def test(**anything):  # generally kwargs used in place of anything.\n",
    "    for i in anything.keys() :\n",
    "        if type(anything[i]) == list:\n",
    "            return i , anything[i]\n",
    "\n",
    "test(s='sid',p='priya',r = (1,2,4), k = [4,5,6])"
   ]
  },
  {
   "cell_type": "code",
   "execution_count": 1,
   "id": "d581b8dd-77ec-46da-8e0e-7b8fad9e62f0",
   "metadata": {},
   "outputs": [
    {
     "data": {
      "text/plain": [
       "((1, 2, 3), {'a': 100, 'c': 200})"
      ]
     },
     "execution_count": 1,
     "metadata": {},
     "output_type": "execute_result"
    }
   ],
   "source": [
    "# Can we have both argument and keyword argument as input parameters ?\n",
    "\n",
    "# kwargs stands for keyword arguments.\n",
    "\n",
    "def test1(*args,**kwargs):\n",
    "    return args , kwargs\n",
    "\n",
    "test1(1,2,3,a=100,c=200)"
   ]
  },
  {
   "cell_type": "code",
   "execution_count": 2,
   "id": "f5d7adbc-35cf-4a80-ae4e-5abfcfd584b2",
   "metadata": {},
   "outputs": [],
   "source": [
    "# python namespace - local and global variable\n",
    "\n",
    "def greet():\n",
    "    message = \"hello,welcome\" # message is a local variable\n",
    "    print(message)"
   ]
  },
  {
   "cell_type": "code",
   "execution_count": 3,
   "id": "346582dc-61ed-480f-a1c3-0eee3b3cd1ad",
   "metadata": {},
   "outputs": [
    {
     "name": "stdout",
     "output_type": "stream",
     "text": [
      "hello,welcome\n"
     ]
    }
   ],
   "source": [
    "greet()"
   ]
  },
  {
   "cell_type": "code",
   "execution_count": 4,
   "id": "48110525-9dc9-4b42-814b-bc928390e978",
   "metadata": {},
   "outputs": [
    {
     "ename": "NameError",
     "evalue": "name 'message' is not defined",
     "output_type": "error",
     "traceback": [
      "\u001b[0;31m---------------------------------------------------------------------------\u001b[0m",
      "\u001b[0;31mNameError\u001b[0m                                 Traceback (most recent call last)",
      "Cell \u001b[0;32mIn[4], line 1\u001b[0m\n\u001b[0;32m----> 1\u001b[0m \u001b[38;5;28mprint\u001b[39m(\u001b[43mmessage\u001b[49m)\n",
      "\u001b[0;31mNameError\u001b[0m: name 'message' is not defined"
     ]
    }
   ],
   "source": [
    "print(message)"
   ]
  },
  {
   "cell_type": "code",
   "execution_count": 5,
   "id": "145b01bb-8756-4402-8e74-5ea74026f7d5",
   "metadata": {},
   "outputs": [],
   "source": [
    "subpart = \"Welcome to course\" # global variable\n",
    "def greet():\n",
    "    message = \"hello,welcome\" # message is a local variable\n",
    "    print(message)"
   ]
  },
  {
   "cell_type": "code",
   "execution_count": 6,
   "id": "c92fe5fb-3d66-480a-b67f-e2bceeb82cea",
   "metadata": {},
   "outputs": [
    {
     "name": "stdout",
     "output_type": "stream",
     "text": [
      "Welcome to course\n"
     ]
    }
   ],
   "source": [
    "print(subpart)"
   ]
  },
  {
   "cell_type": "code",
   "execution_count": 10,
   "id": "9244d159-7465-44d1-b668-9eaffc4e90c5",
   "metadata": {},
   "outputs": [
    {
     "name": "stdout",
     "output_type": "stream",
     "text": [
      "dict_items([('a', 37), ('b', 46), ('c', 23)])\n",
      "dict_items([('a', 37), ('b', 46), ('c', 23)])\n",
      "dict_items([('a', 37), ('b', 46), ('c', 23)])\n"
     ]
    },
    {
     "data": {
      "text/plain": [
       "106"
      ]
     },
     "execution_count": 10,
     "metadata": {},
     "output_type": "execute_result"
    }
   ],
   "source": [
    "# function inside function\n",
    "\n",
    "def marks_in_subjects(**kwargs):\n",
    "    def total_marks(marks_list):\n",
    "        return sum(marks_list)\n",
    "    marks_list = []\n",
    "    for subject , marks in kwargs.items():\n",
    "        print(kwargs.items())\n",
    "        marks_list.append(marks)\n",
    "    return total_marks(marks_list)\n",
    "\n",
    "marks_in_subjects(a = 37 , b = 46 , c = 23)"
   ]
  },
  {
   "cell_type": "code",
   "execution_count": 16,
   "id": "1d16642c-faba-4af2-be3b-fc599fd851a1",
   "metadata": {},
   "outputs": [
    {
     "data": {
      "text/plain": [
       "16"
      ]
     },
     "execution_count": 16,
     "metadata": {},
     "output_type": "execute_result"
    }
   ],
   "source": [
    "def powerfind(num,power):\n",
    "    return num**power\n",
    "\n",
    "powerfind(2,4)"
   ]
  },
  {
   "cell_type": "code",
   "execution_count": 17,
   "id": "c017e250-b892-4190-86f2-de51e6b2e37b",
   "metadata": {},
   "outputs": [],
   "source": [
    "def find_power(num,power):\n",
    "    \"\"\"Lets use recursion to solve this\"\"\"\n",
    "    if power == 0 :\n",
    "        return 1\n",
    "    return num*find_power(num,power-1)"
   ]
  },
  {
   "cell_type": "code",
   "execution_count": 18,
   "id": "8d9a562c-d46e-4da4-9299-d1983158700e",
   "metadata": {},
   "outputs": [
    {
     "data": {
      "text/plain": [
       "8"
      ]
     },
     "execution_count": 18,
     "metadata": {},
     "output_type": "execute_result"
    }
   ],
   "source": [
    "find_power(2,3)"
   ]
  },
  {
   "cell_type": "code",
   "execution_count": 19,
   "id": "f07fc17b-4fcb-4ec9-93b2-7806dc81283f",
   "metadata": {},
   "outputs": [
    {
     "data": {
      "text/plain": [
       "'Lets use recursion to solve this'"
      ]
     },
     "execution_count": 19,
     "metadata": {},
     "output_type": "execute_result"
    }
   ],
   "source": [
    "find_power.__doc__"
   ]
  },
  {
   "cell_type": "code",
   "execution_count": null,
   "id": "8d8bc7ed-b63a-42a8-af18-a37e4184cf13",
   "metadata": {},
   "outputs": [],
   "source": [
    "# to read the comments inside the code we can use\n",
    "# the above command."
   ]
  },
  {
   "cell_type": "code",
   "execution_count": null,
   "id": "6f524429-0d68-4adc-a23e-0259b90444e1",
   "metadata": {},
   "outputs": [],
   "source": []
  }
 ],
 "metadata": {
  "kernelspec": {
   "display_name": "Python 3 (ipykernel)",
   "language": "python",
   "name": "python3"
  },
  "language_info": {
   "codemirror_mode": {
    "name": "ipython",
    "version": 3
   },
   "file_extension": ".py",
   "mimetype": "text/x-python",
   "name": "python",
   "nbconvert_exporter": "python",
   "pygments_lexer": "ipython3",
   "version": "3.10.8"
  }
 },
 "nbformat": 4,
 "nbformat_minor": 5
}
