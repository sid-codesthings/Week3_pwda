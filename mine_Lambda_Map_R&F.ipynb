{
 "cells": [
  {
   "cell_type": "code",
   "execution_count": 1,
   "id": "054c0400-e48f-419d-ba56-72d820218322",
   "metadata": {},
   "outputs": [],
   "source": [
    "# Lambda Functions - very important , is gonna be\n",
    "# used in pandas classes as well.\n",
    "\n",
    "# Lambda >> anonymous or shorthand function\n",
    "\n",
    "# Syntax : lambda is a python keyword\n",
    "\n",
    "# lambda arguments : expression\n"
   ]
  },
  {
   "cell_type": "code",
   "execution_count": 2,
   "id": "90eb30a6-aec5-4bcd-bc7e-f6012a15383b",
   "metadata": {},
   "outputs": [],
   "source": [
    "def square(x):\n",
    "    return x**2"
   ]
  },
  {
   "cell_type": "code",
   "execution_count": 3,
   "id": "56af6b3d-0537-4d2d-9ef6-4181fde91773",
   "metadata": {},
   "outputs": [
    {
     "data": {
      "text/plain": [
       "4"
      ]
     },
     "execution_count": 3,
     "metadata": {},
     "output_type": "execute_result"
    }
   ],
   "source": [
    "square(2)"
   ]
  },
  {
   "cell_type": "code",
   "execution_count": 1,
   "id": "57827a1d-af5a-4978-adba-aee593e2d789",
   "metadata": {},
   "outputs": [
    {
     "data": {
      "text/plain": [
       "<function __main__.<lambda>(x)>"
      ]
     },
     "execution_count": 1,
     "metadata": {},
     "output_type": "execute_result"
    }
   ],
   "source": [
    "lambda x: x**2"
   ]
  },
  {
   "cell_type": "code",
   "execution_count": 2,
   "id": "62ffeaea-c62a-4922-885f-884e46faf393",
   "metadata": {},
   "outputs": [],
   "source": [
    "# it has returned an object above"
   ]
  },
  {
   "cell_type": "code",
   "execution_count": 3,
   "id": "7a978036-b2e4-4829-bf31-b2b8643c06cd",
   "metadata": {},
   "outputs": [],
   "source": [
    "# lets store this in a variable\n",
    "\n",
    "sq_lamb = lambda x: x**2"
   ]
  },
  {
   "cell_type": "code",
   "execution_count": 4,
   "id": "d37dc8a6-0ee8-43e3-ab7d-f02e8ed47690",
   "metadata": {},
   "outputs": [
    {
     "data": {
      "text/plain": [
       "36"
      ]
     },
     "execution_count": 4,
     "metadata": {},
     "output_type": "execute_result"
    }
   ],
   "source": [
    "sq_lamb(6)"
   ]
  },
  {
   "cell_type": "code",
   "execution_count": 5,
   "id": "bad4e0bd-95cd-4521-ad6d-eb010a2f0f1b",
   "metadata": {},
   "outputs": [
    {
     "data": {
      "text/plain": [
       "11"
      ]
     },
     "execution_count": 5,
     "metadata": {},
     "output_type": "execute_result"
    }
   ],
   "source": [
    "# Lets add 2 values\n",
    "\n",
    "sum = lambda a,b:a+b\n",
    "sum(5,6)"
   ]
  },
  {
   "cell_type": "code",
   "execution_count": 6,
   "id": "189fad8c-bc98-4f26-85d9-38c9042765ed",
   "metadata": {},
   "outputs": [
    {
     "data": {
      "text/plain": [
       "True"
      ]
     },
     "execution_count": 6,
     "metadata": {},
     "output_type": "execute_result"
    }
   ],
   "source": [
    "iseven = lambda x: x%2 == 0\n",
    "iseven(2)"
   ]
  },
  {
   "cell_type": "code",
   "execution_count": 18,
   "id": "dff69c4c-4bec-4e6e-b1eb-f9b87ce529e3",
   "metadata": {},
   "outputs": [],
   "source": [
    "x = [\"Python\",\"Data Science\",\"Ajay\"]\n",
    "sorted_words = sorted(x,key = lambda x:len(x))"
   ]
  },
  {
   "cell_type": "code",
   "execution_count": 19,
   "id": "e290b448-c099-4a69-976e-8ababb34953c",
   "metadata": {},
   "outputs": [
    {
     "name": "stdout",
     "output_type": "stream",
     "text": [
      "['Ajay', 'Python', 'Data Science']\n"
     ]
    }
   ],
   "source": [
    "print(sorted_words) #sorted as per length of each word in list."
   ]
  },
  {
   "cell_type": "code",
   "execution_count": 15,
   "id": "4e5fef49-5293-45ee-9f9a-8eef81b57d2f",
   "metadata": {},
   "outputs": [
    {
     "data": {
      "text/plain": [
       "5"
      ]
     },
     "execution_count": 15,
     "metadata": {},
     "output_type": "execute_result"
    }
   ],
   "source": [
    "key('siddh')"
   ]
  },
  {
   "cell_type": "code",
   "execution_count": 37,
   "id": "7cedf000-7d72-42bd-85c7-ebe390afea75",
   "metadata": {},
   "outputs": [
    {
     "data": {
      "text/plain": [
       "[0, 1, 1, 2, 3, 5, 8, 13, 21, 34]"
      ]
     },
     "execution_count": 37,
     "metadata": {},
     "output_type": "execute_result"
    }
   ],
   "source": [
    "# fibonacci series with lambda function\n",
    "\n",
    "fib = lambda n: n if n<=1 else fib(n-1) + fib(n-2)\n",
    "[fib(i) for i in range(10)]"
   ]
  },
  {
   "cell_type": "code",
   "execution_count": 33,
   "id": "c3e3fee1-3e88-491a-9d89-71d8225550d7",
   "metadata": {},
   "outputs": [],
   "source": [
    "def fibo(n):\n",
    "    if n<=1:\n",
    "        return n\n",
    "    return fibo(n-1) + fibo(n-2)"
   ]
  },
  {
   "cell_type": "code",
   "execution_count": 36,
   "id": "01a428c9-a5af-4104-bb6a-95656abace52",
   "metadata": {},
   "outputs": [
    {
     "name": "stdout",
     "output_type": "stream",
     "text": [
      "0 1 1 2 3 5 8 13 21 34 "
     ]
    }
   ],
   "source": [
    "for i in range(10):\n",
    "    print(fibo(i),end=\" \")"
   ]
  },
  {
   "cell_type": "code",
   "execution_count": 40,
   "id": "5086060a-1557-4773-bb3c-594546ddf60d",
   "metadata": {},
   "outputs": [
    {
     "data": {
      "text/plain": [
       "120"
      ]
     },
     "execution_count": 40,
     "metadata": {},
     "output_type": "execute_result"
    }
   ],
   "source": [
    "# factorial of 5 = 120\n",
    "\n",
    "fact = lambda n: 1 if n <= 1 else n * fact(n-1)\n",
    "fact(5)"
   ]
  },
  {
   "cell_type": "code",
   "execution_count": 41,
   "id": "01a4054d-bbf0-4404-bd71-e11e0eadb840",
   "metadata": {},
   "outputs": [],
   "source": [
    "# map >> executes a specified function for each of the\n",
    "# item of an interable\n",
    "\n",
    "# syntax > map(function , *iterables)\n",
    "\n",
    "l = [1,2,3,4,5]\n",
    "\n",
    "def square(l):\n",
    "    sq = []\n",
    "    for i in l:\n",
    "        sq.append(i**2)\n",
    "    return sq  "
   ]
  },
  {
   "cell_type": "code",
   "execution_count": 42,
   "id": "1c7b22ea-8972-45a0-980a-fa8d888a05ff",
   "metadata": {},
   "outputs": [
    {
     "data": {
      "text/plain": [
       "[1, 4, 9, 16, 25]"
      ]
     },
     "execution_count": 42,
     "metadata": {},
     "output_type": "execute_result"
    }
   ],
   "source": [
    "square(l)"
   ]
  },
  {
   "cell_type": "code",
   "execution_count": 43,
   "id": "2baabe9b-e066-459a-ab41-a7edb865ac49",
   "metadata": {},
   "outputs": [],
   "source": [
    "# But we can reduce so many lines and make the code\n",
    "# more concise using map.\n",
    "\n",
    "def sq(x):\n",
    "    return x**2"
   ]
  },
  {
   "cell_type": "code",
   "execution_count": 44,
   "id": "96319711-4368-473a-9a57-7fb5d7785a15",
   "metadata": {},
   "outputs": [
    {
     "data": {
      "text/plain": [
       "[1, 2, 3, 4, 5]"
      ]
     },
     "execution_count": 44,
     "metadata": {},
     "output_type": "execute_result"
    }
   ],
   "source": [
    "l"
   ]
  },
  {
   "cell_type": "code",
   "execution_count": 45,
   "id": "77a165b1-4ed6-4e79-8a2c-4afa687a2d16",
   "metadata": {},
   "outputs": [
    {
     "data": {
      "text/plain": [
       "<map at 0x7f80a80d0c10>"
      ]
     },
     "execution_count": 45,
     "metadata": {},
     "output_type": "execute_result"
    }
   ],
   "source": [
    "map(sq,l) # syntax map(func, *iterables)\n"
   ]
  },
  {
   "cell_type": "code",
   "execution_count": 46,
   "id": "e7504785-a53e-4e2b-84c1-b2a739c89808",
   "metadata": {},
   "outputs": [],
   "source": [
    "# The above output is a mapper object"
   ]
  },
  {
   "cell_type": "code",
   "execution_count": 47,
   "id": "bd751fab-3fd3-449d-98d7-4ad4a093cb18",
   "metadata": {},
   "outputs": [
    {
     "data": {
      "text/plain": [
       "[1, 4, 9, 16, 25]"
      ]
     },
     "execution_count": 47,
     "metadata": {},
     "output_type": "execute_result"
    }
   ],
   "source": [
    "list(map(sq,l))"
   ]
  },
  {
   "cell_type": "code",
   "execution_count": 49,
   "id": "f6a6c544-2925-4a9d-9c97-0b435c554198",
   "metadata": {},
   "outputs": [
    {
     "data": {
      "text/plain": [
       "<map at 0x7f80a80d0550>"
      ]
     },
     "execution_count": 49,
     "metadata": {},
     "output_type": "execute_result"
    }
   ],
   "source": [
    "# lets do the same thing with lambda using map.\n",
    "\n",
    "map(lambda x:x**2,l)"
   ]
  },
  {
   "cell_type": "code",
   "execution_count": 50,
   "id": "eb949b0e-2943-4e2f-822b-18d53996f9c0",
   "metadata": {},
   "outputs": [
    {
     "data": {
      "text/plain": [
       "[1, 4, 9, 16, 25]"
      ]
     },
     "execution_count": 50,
     "metadata": {},
     "output_type": "execute_result"
    }
   ],
   "source": [
    "list(map(lambda x:x**2,l))"
   ]
  },
  {
   "cell_type": "code",
   "execution_count": 51,
   "id": "d22d9afa-453a-4ba6-92ff-41ff643b343a",
   "metadata": {},
   "outputs": [
    {
     "data": {
      "text/plain": [
       "[1, 2, 3, 100]"
      ]
     },
     "execution_count": 51,
     "metadata": {},
     "output_type": "execute_result"
    }
   ],
   "source": [
    "#\n",
    "\n",
    "l = [\"1\",\"2\",\"3\",\"100\"]\n",
    "\n",
    "list(map(lambda x:int(x) , l))"
   ]
  },
  {
   "cell_type": "code",
   "execution_count": 55,
   "id": "2615f77b-f204-4e8a-8196-1361aa180457",
   "metadata": {},
   "outputs": [
    {
     "data": {
      "text/plain": [
       "[101, 202, 303, 404]"
      ]
     },
     "execution_count": 55,
     "metadata": {},
     "output_type": "execute_result"
    }
   ],
   "source": [
    "l1 = [100,200,300,400]\n",
    "l2 = [1,2,3,4]\n",
    "\n",
    "list(map(lambda a,b: a+b , l1,l2))"
   ]
  },
  {
   "cell_type": "code",
   "execution_count": 58,
   "id": "8ef79062-c30e-41df-a3de-ff0dcc84c9c6",
   "metadata": {},
   "outputs": [],
   "source": [
    "x = \"pwskills\" # for convenience we can use s = \"pwskills\" instead of x for avoiding confusion.\n",
    "a = lambda x:x.upper()"
   ]
  },
  {
   "cell_type": "code",
   "execution_count": 59,
   "id": "53b6de05-f493-43d4-ae0e-2dfdaf06f299",
   "metadata": {},
   "outputs": [
    {
     "data": {
      "text/plain": [
       "'PWSKILLS'"
      ]
     },
     "execution_count": 59,
     "metadata": {},
     "output_type": "execute_result"
    }
   ],
   "source": [
    "a(x)"
   ]
  },
  {
   "cell_type": "code",
   "execution_count": 63,
   "id": "595081c0-aaef-40da-8815-844ef7118521",
   "metadata": {},
   "outputs": [
    {
     "data": {
      "text/plain": [
       "['P', 'W', 'S', 'K', 'I', 'L', 'L', 'S']"
      ]
     },
     "execution_count": 63,
     "metadata": {},
     "output_type": "execute_result"
    }
   ],
   "source": [
    "# or\n",
    "\n",
    "list(map(lambda x: x.upper(),x))"
   ]
  },
  {
   "cell_type": "code",
   "execution_count": 66,
   "id": "5409a10d-41fb-4c22-896f-928a0dca6b44",
   "metadata": {},
   "outputs": [
    {
     "data": {
      "text/plain": [
       "['PYTHON', 'AJAY']"
      ]
     },
     "execution_count": 66,
     "metadata": {},
     "output_type": "execute_result"
    }
   ],
   "source": [
    "words = [\"Python\",\"Ajay\"]\n",
    "list(map(lambda x:x.upper(),words))"
   ]
  },
  {
   "cell_type": "code",
   "execution_count": 1,
   "id": "361ffe4b-5a13-4428-929c-26b89799b15b",
   "metadata": {},
   "outputs": [
    {
     "data": {
      "text/plain": [
       "['Punjab', 'Kolkata']"
      ]
     },
     "execution_count": 1,
     "metadata": {},
     "output_type": "execute_result"
    }
   ],
   "source": [
    "lst = ['punjab','kolkata']\n",
    "list(map(str.capitalize,lst))"
   ]
  },
  {
   "cell_type": "code",
   "execution_count": 2,
   "id": "db2c4f60-d1c5-4b61-8cd7-e8607c9c6cc3",
   "metadata": {},
   "outputs": [],
   "source": [
    "grades = [\"A\",\"B\",\"C\",\"D\"]\n",
    "# grade A is 4 , B is 3 and rest is 2"
   ]
  },
  {
   "cell_type": "code",
   "execution_count": 3,
   "id": "d587eb21-7e6d-4aa2-8577-e50a1a18fd5d",
   "metadata": {},
   "outputs": [
    {
     "data": {
      "text/plain": [
       "[4, 3, 2, 2]"
      ]
     },
     "execution_count": 3,
     "metadata": {},
     "output_type": "execute_result"
    }
   ],
   "source": [
    "list(map(lambda x:4 if x == \"A\" else 3 if x == \"B\" else 2 , grades))"
   ]
  },
  {
   "cell_type": "code",
   "execution_count": 4,
   "id": "9cedd036-d906-4663-8a58-f73d5fd97ecd",
   "metadata": {},
   "outputs": [
    {
     "data": {
      "text/plain": [
       "21"
      ]
     },
     "execution_count": 4,
     "metadata": {},
     "output_type": "execute_result"
    }
   ],
   "source": [
    "# Reduce function\n",
    "\n",
    "# reduce >> folding/reduction\n",
    "# syntax >> reduce(function,iterable[,initial])\n",
    "from functools import reduce\n",
    "l = [1,2,3,4,5,6]\n",
    "reduce(lambda x,y : x+y , l)"
   ]
  },
  {
   "cell_type": "code",
   "execution_count": 12,
   "id": "23fe6d4e-b1f0-49ee-b36a-07b9ee1d05d0",
   "metadata": {},
   "outputs": [
    {
     "data": {
      "image/png": "[encoded data removed]",
      "text/plain": [
       "<PIL.Image.Image image mode=RGBA size=438x300>"
      ]
     },
     "execution_count": 12,
     "metadata": {},
     "output_type": "execute_result"
    }
   ],
   "source": [
    "from PIL import Image\n",
    "img = Image.open('reduce.PNG')\n",
    "img.resize([438,300])"
   ]
  },
  {
   "cell_type": "code",
   "execution_count": null,
   "id": "7e1388bf-9955-4311-b581-de40e461d79c",
   "metadata": {},
   "outputs": [],
   "source": [
    "# the logic is first x = 1 and y = 2 gets added\n",
    "# then 3 becomes the new x and added to new y = 3\n",
    "# to become 6 which is new x and so on."
   ]
  },
  {
   "cell_type": "code",
   "execution_count": 13,
   "id": "01d4cd2a-91f7-4a07-8fd5-25d9d3ad5670",
   "metadata": {},
   "outputs": [
    {
     "data": {
      "text/plain": [
       "23"
      ]
     },
     "execution_count": 13,
     "metadata": {},
     "output_type": "execute_result"
    }
   ],
   "source": [
    "# We can also use reduce within a user defined\n",
    "# function , say\n",
    "\n",
    "l2 = [4,5,6,8]\n",
    "def add(x,y):\n",
    "    return x+y\n",
    "reduce(add,l2)"
   ]
  },
  {
   "cell_type": "code",
   "execution_count": 14,
   "id": "3319e946-eceb-4c3c-9367-5c1aa8e5758a",
   "metadata": {},
   "outputs": [
    {
     "ename": "TypeError",
     "evalue": "<lambda>() missing 1 required positional argument: 'z'",
     "output_type": "error",
     "traceback": [
      "\u001b[0;31m---------------------------------------------------------------------------\u001b[0m",
      "\u001b[0;31mTypeError\u001b[0m                                 Traceback (most recent call last)",
      "Cell \u001b[0;32mIn[14], line 5\u001b[0m\n\u001b[1;32m      1\u001b[0m \u001b[38;5;66;03m# Note reduce can only be done with two variables\u001b[39;00m\n\u001b[1;32m      2\u001b[0m \u001b[38;5;66;03m# not more than that\u001b[39;00m\n\u001b[1;32m      4\u001b[0m l \u001b[38;5;241m=\u001b[39m [\u001b[38;5;241m1\u001b[39m,\u001b[38;5;241m2\u001b[39m,\u001b[38;5;241m4\u001b[39m,\u001b[38;5;241m5\u001b[39m,\u001b[38;5;241m6\u001b[39m]\n\u001b[0;32m----> 5\u001b[0m \u001b[43mreduce\u001b[49m\u001b[43m(\u001b[49m\u001b[38;5;28;43;01mlambda\u001b[39;49;00m\u001b[43m \u001b[49m\u001b[43mx\u001b[49m\u001b[43m,\u001b[49m\u001b[43my\u001b[49m\u001b[43m,\u001b[49m\u001b[43mz\u001b[49m\u001b[43m:\u001b[49m\u001b[43mx\u001b[49m\u001b[38;5;241;43m+\u001b[39;49m\u001b[43my\u001b[49m\u001b[38;5;241;43m+\u001b[39;49m\u001b[43mz\u001b[49m\u001b[43m,\u001b[49m\u001b[43ml\u001b[49m\u001b[43m)\u001b[49m\n",
      "\u001b[0;31mTypeError\u001b[0m: <lambda>() missing 1 required positional argument: 'z'"
     ]
    }
   ],
   "source": [
    "# Note reduce can only be done with two variables\n",
    "# not more than that\n",
    "\n",
    "l = [1,2,4,5,6]\n",
    "reduce(lambda x,y,z:x+y+z,l)"
   ]
  },
  {
   "cell_type": "code",
   "execution_count": 19,
   "id": "c601d703-cbdb-4a17-b399-5e5344975197",
   "metadata": {},
   "outputs": [
    {
     "data": {
      "image/png": "[encoded data removed]",
      "text/plain": [
       "<PIL.Image.Image image mode=RGBA size=350x200>"
      ]
     },
     "execution_count": 19,
     "metadata": {},
     "output_type": "execute_result"
    }
   ],
   "source": [
    "img_ = Image.open('reduce_limitation.PNG')\n",
    "img_.resize([350,200])"
   ]
  },
  {
   "cell_type": "code",
   "execution_count": null,
   "id": "c53b40d8-5a30-45be-ba2e-42082ef5ad91",
   "metadata": {},
   "outputs": [],
   "source": [
    "# this is why it doesnt work."
   ]
  },
  {
   "cell_type": "code",
   "execution_count": 20,
   "id": "de2d2742-fe0c-438e-b7be-19d4e4f0a870",
   "metadata": {},
   "outputs": [
    {
     "data": {
      "text/plain": [
       "1"
      ]
     },
     "execution_count": 20,
     "metadata": {},
     "output_type": "execute_result"
    }
   ],
   "source": [
    "# Can reduce be used with an empty list ?\n",
    "# No\n",
    "\n",
    "# Will it execute with 1 element > \n",
    "# yes\n",
    "\n",
    "reduce(lambda x,y:x+y ,[1]) "
   ]
  },
  {
   "cell_type": "code",
   "execution_count": 22,
   "id": "4d3a9508-aeac-4a50-b69f-08cb13317424",
   "metadata": {},
   "outputs": [
    {
     "data": {
      "text/plain": [
       "1"
      ]
     },
     "execution_count": 22,
     "metadata": {},
     "output_type": "execute_result"
    }
   ],
   "source": [
    "reduce(lambda x,y:x*y,[1])"
   ]
  },
  {
   "cell_type": "code",
   "execution_count": 23,
   "id": "05693da1-b948-418e-9bda-187b5d3e3180",
   "metadata": {},
   "outputs": [
    {
     "data": {
      "text/plain": [
       "720"
      ]
     },
     "execution_count": 23,
     "metadata": {},
     "output_type": "execute_result"
    }
   ],
   "source": [
    "l = [2,1,3,4,5,6]\n",
    "reduce(lambda x,y:x*y,l)"
   ]
  },
  {
   "cell_type": "code",
   "execution_count": 25,
   "id": "f382574f-833d-481d-b84d-e08cd765fc59",
   "metadata": {},
   "outputs": [
    {
     "name": "stdout",
     "output_type": "stream",
     "text": [
      "Data Science Courses\n"
     ]
    }
   ],
   "source": [
    "words = [\"Data\",\"Science\",\"Courses\"]\n",
    "print(reduce(lambda x,y:x+\" \"+y,words))"
   ]
  },
  {
   "cell_type": "code",
   "execution_count": 27,
   "id": "61cffff2-c88c-4233-b6db-5f88d3718616",
   "metadata": {},
   "outputs": [
    {
     "data": {
      "text/plain": [
       "9000"
      ]
     },
     "execution_count": 27,
     "metadata": {},
     "output_type": "execute_result"
    }
   ],
   "source": [
    "# max number in a list using reduce\n",
    "\n",
    "numbers = [1,2,5,3,100,1000,6,9000]\n",
    "reduce(lambda x,y:x if x>y else y,numbers)"
   ]
  },
  {
   "cell_type": "code",
   "execution_count": 33,
   "id": "dbfba065-bd09-4455-b2b5-2cc89152627a",
   "metadata": {},
   "outputs": [
    {
     "data": {
      "text/plain": [
       "120"
      ]
     },
     "execution_count": 33,
     "metadata": {},
     "output_type": "execute_result"
    }
   ],
   "source": [
    "# factorial using reduce\n",
    "\n",
    "def factorial(n):\n",
    "    return reduce(lambda x,y:x*y , list(range(1,n+1)))\n",
    "\n",
    "factorial(5)"
   ]
  },
  {
   "cell_type": "code",
   "execution_count": 34,
   "id": "ab750972-5c9c-4510-8f4f-5aaca1ba1f43",
   "metadata": {},
   "outputs": [],
   "source": [
    "# Filter Function >> is used to filter elements\n",
    "# from an iterable based on some certain condition.\n",
    "\n",
    "# syntax >> filter(function, iterable)"
   ]
  },
  {
   "cell_type": "code",
   "execution_count": 35,
   "id": "e1437a87-d4e9-44e5-af91-eff87e9ca4c8",
   "metadata": {},
   "outputs": [
    {
     "data": {
      "text/plain": [
       "[2, 1, 3, 4, 5, 6]"
      ]
     },
     "execution_count": 35,
     "metadata": {},
     "output_type": "execute_result"
    }
   ],
   "source": [
    "l"
   ]
  },
  {
   "cell_type": "code",
   "execution_count": 38,
   "id": "18a243ac-1225-4a60-8f64-d494fa57fc73",
   "metadata": {},
   "outputs": [
    {
     "data": {
      "text/plain": [
       "[1, 3, 5]"
      ]
     },
     "execution_count": 38,
     "metadata": {},
     "output_type": "execute_result"
    }
   ],
   "source": [
    "# lets filter all the numbers that are odd.\n",
    "\n",
    "list(filter(lambda x:x if x%2 == 1 else None , l))"
   ]
  },
  {
   "cell_type": "code",
   "execution_count": 39,
   "id": "20cd9e35-70e1-448a-bc28-59261789309b",
   "metadata": {},
   "outputs": [
    {
     "data": {
      "text/plain": [
       "[2, 4, 6]"
      ]
     },
     "execution_count": 39,
     "metadata": {},
     "output_type": "execute_result"
    }
   ],
   "source": [
    "# or\n",
    "\n",
    "list(filter(lambda x: x%2==0 , l))"
   ]
  },
  {
   "cell_type": "code",
   "execution_count": 40,
   "id": "a49e4a6c-d586-4031-9a23-63cb4dae030c",
   "metadata": {},
   "outputs": [
    {
     "data": {
      "text/plain": [
       "[-1, -50]"
      ]
     },
     "execution_count": 40,
     "metadata": {},
     "output_type": "execute_result"
    }
   ],
   "source": [
    "l1 = [-1,90,-50,69,57]\n",
    "list(filter(lambda x: x<0 , l1))"
   ]
  },
  {
   "cell_type": "code",
   "execution_count": 42,
   "id": "dfcf2846-1890-40e0-8867-0b5b7bd628ef",
   "metadata": {},
   "outputs": [
    {
     "data": {
      "text/plain": [
       "['Ajay', 'Data', 'Pwskills']"
      ]
     },
     "execution_count": 42,
     "metadata": {},
     "output_type": "execute_result"
    }
   ],
   "source": [
    "s = [\"Ajay\" , \"CMU\" , \"Data\", \"Pwskills\"]\n",
    "# lets filter out those data that have atleast 3 characters\n",
    "# in them\n",
    "\n",
    "list(filter(lambda x : len(x) >= 4 , s))"
   ]
  },
  {
   "cell_type": "code",
   "execution_count": 50,
   "id": "b638c3a3-411c-445b-b36c-54b0142ad132",
   "metadata": {},
   "outputs": [
    {
     "data": {
      "text/plain": [
       "[2, 1, 3, 4, 5, 6]"
      ]
     },
     "execution_count": 50,
     "metadata": {},
     "output_type": "execute_result"
    }
   ],
   "source": [
    "l"
   ]
  },
  {
   "cell_type": "code",
   "execution_count": 54,
   "id": "97a72e5f-ff54-44f4-b364-218533e27421",
   "metadata": {},
   "outputs": [
    {
     "data": {
      "text/plain": [
       "[2, 4, 6]"
      ]
     },
     "execution_count": 54,
     "metadata": {},
     "output_type": "execute_result"
    }
   ],
   "source": [
    "def check_even(num):\n",
    "    if num%2 == 0 :\n",
    "        return num\n",
    "    \n",
    "list(filter(check_even,l))"
   ]
  },
  {
   "cell_type": "code",
   "execution_count": null,
   "id": "90d4ec7c-0973-4900-9e02-3645e13519ff",
   "metadata": {},
   "outputs": [],
   "source": []
  }
 ],
 "metadata": {
  "kernelspec": {
   "display_name": "Python 3 (ipykernel)",
   "language": "python",
   "name": "python3"
  },
  "language_info": {
   "codemirror_mode": {
    "name": "ipython",
    "version": 3
   },
   "file_extension": ".py",
   "mimetype": "text/x-python",
   "name": "python",
   "nbconvert_exporter": "python",
   "pygments_lexer": "ipython3",
   "version": "3.10.8"
  }
 },
 "nbformat": 4,
 "nbformat_minor": 5
}
