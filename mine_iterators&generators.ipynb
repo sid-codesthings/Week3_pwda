{
 "cells": [
  {
   "cell_type": "code",
   "execution_count": 1,
   "id": "4f130d9d-da10-4691-b1e6-9c2690764934",
   "metadata": {},
   "outputs": [
    {
     "name": "stdout",
     "output_type": "stream",
     "text": [
      "p w s k i l l s "
     ]
    }
   ],
   "source": [
    "# iterators\n",
    "\n",
    "for i in \"pwskills\":\n",
    "    print(i,end=\" \")"
   ]
  },
  {
   "cell_type": "code",
   "execution_count": 3,
   "id": "49e0f430-5643-425d-bf23-dc337de12f19",
   "metadata": {},
   "outputs": [
    {
     "name": "stdout",
     "output_type": "stream",
     "text": [
      "1 2 3 4 Ajay "
     ]
    }
   ],
   "source": [
    "lis = [1,2,3,4,\"Ajay\"]\n",
    "for i in lis:\n",
    "    print(i,end=\" \")"
   ]
  },
  {
   "cell_type": "code",
   "execution_count": 4,
   "id": "acc3dd22-feb7-41aa-b8f2-0fdabfb053a6",
   "metadata": {},
   "outputs": [
    {
     "name": "stdout",
     "output_type": "stream",
     "text": [
      "0 1 2 3 4 "
     ]
    }
   ],
   "source": [
    "for i in range(5):\n",
    "    print(i,end=\" \")"
   ]
  },
  {
   "cell_type": "code",
   "execution_count": 5,
   "id": "7890ecd9-0fb1-4ebb-8fd2-3eb88238b79f",
   "metadata": {},
   "outputs": [
    {
     "data": {
      "text/plain": [
       "<str_iterator at 0x7fcf5a5fa3e0>"
      ]
     },
     "execution_count": 5,
     "metadata": {},
     "output_type": "execute_result"
    }
   ],
   "source": [
    "# What are iterators and iterables ?\n",
    "\n",
    "# We were iterating on the list above called as lis.\n",
    "# Going through elements.\n",
    "\n",
    "# iterator >> is an object that is used to iterate over\n",
    "# iterable objects. \n",
    "# Iterable objects are list , tuple , dict , string , set.\n",
    "\n",
    "s = \"pwskills\"\n",
    "iter(s) \n",
    "# iter is an in-built python function which helps us to\n",
    "# know whether the variable or object that we send through\n",
    "# it is iterable or not."
   ]
  },
  {
   "cell_type": "code",
   "execution_count": 6,
   "id": "8eb999d8-77fe-4907-9e46-be2ada7aeaf1",
   "metadata": {},
   "outputs": [],
   "source": [
    "# So 's' is an iterable object."
   ]
  },
  {
   "cell_type": "code",
   "execution_count": 7,
   "id": "ace7519f-f154-4f02-9afd-bb655874de1c",
   "metadata": {},
   "outputs": [
    {
     "data": {
      "text/plain": [
       "[1, 2, 3, 4, 'Ajay']"
      ]
     },
     "execution_count": 7,
     "metadata": {},
     "output_type": "execute_result"
    }
   ],
   "source": [
    "lis"
   ]
  },
  {
   "cell_type": "code",
   "execution_count": 8,
   "id": "490bb8c5-b0b3-4c8b-b878-c16d856c4f65",
   "metadata": {},
   "outputs": [
    {
     "data": {
      "text/plain": [
       "<list_iterator at 0x7fcf5a5fb0a0>"
      ]
     },
     "execution_count": 8,
     "metadata": {},
     "output_type": "execute_result"
    }
   ],
   "source": [
    "iter(lis) # Also iterable"
   ]
  },
  {
   "cell_type": "code",
   "execution_count": 9,
   "id": "309c81b6-f157-4565-8f62-456c903909c9",
   "metadata": {},
   "outputs": [
    {
     "ename": "TypeError",
     "evalue": "'int' object is not iterable",
     "output_type": "error",
     "traceback": [
      "\u001b[0;31m---------------------------------------------------------------------------\u001b[0m",
      "\u001b[0;31mTypeError\u001b[0m                                 Traceback (most recent call last)",
      "Cell \u001b[0;32mIn[9], line 1\u001b[0m\n\u001b[0;32m----> 1\u001b[0m \u001b[38;5;28;01mfor\u001b[39;00m i \u001b[38;5;129;01min\u001b[39;00m \u001b[38;5;241m5\u001b[39m:\n\u001b[1;32m      2\u001b[0m     \u001b[38;5;28mprint\u001b[39m(i)\n",
      "\u001b[0;31mTypeError\u001b[0m: 'int' object is not iterable"
     ]
    }
   ],
   "source": [
    "for i in 5:\n",
    "    print(i)"
   ]
  },
  {
   "cell_type": "code",
   "execution_count": 10,
   "id": "72b204dc-e6ef-4bf4-9c95-aefc64af41d6",
   "metadata": {},
   "outputs": [
    {
     "ename": "TypeError",
     "evalue": "'int' object is not iterable",
     "output_type": "error",
     "traceback": [
      "\u001b[0;31m---------------------------------------------------------------------------\u001b[0m",
      "\u001b[0;31mTypeError\u001b[0m                                 Traceback (most recent call last)",
      "Cell \u001b[0;32mIn[10], line 1\u001b[0m\n\u001b[0;32m----> 1\u001b[0m \u001b[38;5;28;43miter\u001b[39;49m\u001b[43m(\u001b[49m\u001b[38;5;241;43m5\u001b[39;49m\u001b[43m)\u001b[49m\n",
      "\u001b[0;31mTypeError\u001b[0m: 'int' object is not iterable"
     ]
    }
   ],
   "source": [
    "iter(5) # hence not iterable"
   ]
  },
  {
   "cell_type": "code",
   "execution_count": 11,
   "id": "c4df66c1-80d4-45f1-8b9c-8e0154503bcc",
   "metadata": {},
   "outputs": [
    {
     "name": "stdout",
     "output_type": "stream",
     "text": [
      "pwskills"
     ]
    }
   ],
   "source": [
    "for i in s:\n",
    "    print(i,end=\"\")"
   ]
  },
  {
   "cell_type": "code",
   "execution_count": 12,
   "id": "9b289a26-13c9-4c8f-a349-25f23a937a2c",
   "metadata": {},
   "outputs": [],
   "source": [
    "a = iter(s)"
   ]
  },
  {
   "cell_type": "code",
   "execution_count": 13,
   "id": "6499fee3-ed4b-40f6-9c85-ef6e9a7f16e8",
   "metadata": {},
   "outputs": [
    {
     "data": {
      "text/plain": [
       "<str_iterator at 0x7fcf58236170>"
      ]
     },
     "execution_count": 13,
     "metadata": {},
     "output_type": "execute_result"
    }
   ],
   "source": [
    "a"
   ]
  },
  {
   "cell_type": "code",
   "execution_count": 14,
   "id": "01bb4158-c6ab-48ef-b5c4-2cb3c68063a4",
   "metadata": {},
   "outputs": [
    {
     "data": {
      "text/plain": [
       "'p'"
      ]
     },
     "execution_count": 14,
     "metadata": {},
     "output_type": "execute_result"
    }
   ],
   "source": [
    "next(a)"
   ]
  },
  {
   "cell_type": "code",
   "execution_count": 15,
   "id": "2c3a9fe1-5350-4512-829c-2bc06a63fc97",
   "metadata": {},
   "outputs": [
    {
     "data": {
      "text/plain": [
       "'w'"
      ]
     },
     "execution_count": 15,
     "metadata": {},
     "output_type": "execute_result"
    }
   ],
   "source": [
    "next(a)"
   ]
  },
  {
   "cell_type": "code",
   "execution_count": 16,
   "id": "66fe0b95-b31b-486d-bd33-8c875600da92",
   "metadata": {},
   "outputs": [
    {
     "data": {
      "text/plain": [
       "'s'"
      ]
     },
     "execution_count": 16,
     "metadata": {},
     "output_type": "execute_result"
    }
   ],
   "source": [
    "next(a)"
   ]
  },
  {
   "cell_type": "code",
   "execution_count": 17,
   "id": "5835df86-de36-4a6e-819a-e86584e800e3",
   "metadata": {},
   "outputs": [
    {
     "data": {
      "text/plain": [
       "'k'"
      ]
     },
     "execution_count": 17,
     "metadata": {},
     "output_type": "execute_result"
    }
   ],
   "source": [
    "next(a)"
   ]
  },
  {
   "cell_type": "code",
   "execution_count": 18,
   "id": "0d0bf6dd-3ec5-41c2-98bb-ac8b15fb37bd",
   "metadata": {},
   "outputs": [
    {
     "data": {
      "text/plain": [
       "'i'"
      ]
     },
     "execution_count": 18,
     "metadata": {},
     "output_type": "execute_result"
    }
   ],
   "source": [
    "next(a)"
   ]
  },
  {
   "cell_type": "code",
   "execution_count": 19,
   "id": "a325a936-6401-4812-9e4f-7efeb793b338",
   "metadata": {},
   "outputs": [
    {
     "data": {
      "text/plain": [
       "'l'"
      ]
     },
     "execution_count": 19,
     "metadata": {},
     "output_type": "execute_result"
    }
   ],
   "source": [
    "next(a)"
   ]
  },
  {
   "cell_type": "code",
   "execution_count": 20,
   "id": "ca40fd0d-83fd-4497-b656-b0ed1b400c71",
   "metadata": {},
   "outputs": [
    {
     "data": {
      "text/plain": [
       "'l'"
      ]
     },
     "execution_count": 20,
     "metadata": {},
     "output_type": "execute_result"
    }
   ],
   "source": [
    "next(a)"
   ]
  },
  {
   "cell_type": "code",
   "execution_count": 21,
   "id": "affbdae5-c88e-441a-a195-38080def6751",
   "metadata": {},
   "outputs": [
    {
     "data": {
      "text/plain": [
       "'s'"
      ]
     },
     "execution_count": 21,
     "metadata": {},
     "output_type": "execute_result"
    }
   ],
   "source": [
    "next(a)"
   ]
  },
  {
   "cell_type": "code",
   "execution_count": 24,
   "id": "899b4794-799d-473a-a108-12481fcd9a8d",
   "metadata": {},
   "outputs": [
    {
     "name": "stdout",
     "output_type": "stream",
     "text": [
      "p\n",
      "w\n",
      "s\n",
      "k\n",
      "i\n",
      "l\n",
      "l\n",
      "s\n"
     ]
    }
   ],
   "source": [
    "for i in s:\n",
    "    print(i)"
   ]
  },
  {
   "cell_type": "code",
   "execution_count": 1,
   "id": "f135cdde-d704-44a6-bb32-0155e4f7164a",
   "metadata": {},
   "outputs": [],
   "source": [
    "s = \"pwkskills\""
   ]
  },
  {
   "cell_type": "code",
   "execution_count": 2,
   "id": "00e207e0-c6e9-4d7b-b280-c9aa60c61b2a",
   "metadata": {},
   "outputs": [
    {
     "name": "stdout",
     "output_type": "stream",
     "text": [
      "p\n",
      "w\n",
      "k\n",
      "s\n",
      "k\n",
      "i\n",
      "l\n",
      "l\n",
      "s\n"
     ]
    }
   ],
   "source": [
    "while True:\n",
    "    try:\n",
    "        s = iter(s)\n",
    "        item = next(s)\n",
    "        print(item)\n",
    "        \n",
    "    except StopIteration:\n",
    "        break"
   ]
  },
  {
   "cell_type": "code",
   "execution_count": 3,
   "id": "c050bc19-c1e6-4dfb-887a-a474dd45095e",
   "metadata": {},
   "outputs": [],
   "source": [
    "# iterable >> object which can be iterated\n",
    "# iterator >> To iterate through the iterable,\n",
    "# we have to convert the iterable into an\n",
    "# iterator object by using iter.\n",
    "\n",
    "s = \"Ajay\"\n",
    "a = iter(s)"
   ]
  },
  {
   "cell_type": "code",
   "execution_count": 4,
   "id": "2ca92592-2554-4572-9751-66c113cad25a",
   "metadata": {},
   "outputs": [
    {
     "data": {
      "text/plain": [
       "'A'"
      ]
     },
     "execution_count": 4,
     "metadata": {},
     "output_type": "execute_result"
    }
   ],
   "source": [
    "next(a)"
   ]
  },
  {
   "cell_type": "code",
   "execution_count": 5,
   "id": "14cf5b38-e541-4d90-846a-52dd9e6330c7",
   "metadata": {},
   "outputs": [
    {
     "data": {
      "text/plain": [
       "'j'"
      ]
     },
     "execution_count": 5,
     "metadata": {},
     "output_type": "execute_result"
    }
   ],
   "source": [
    "next(a)"
   ]
  },
  {
   "cell_type": "code",
   "execution_count": 6,
   "id": "c00be37d-2331-4663-b8d7-7d17a90c1744",
   "metadata": {},
   "outputs": [
    {
     "data": {
      "text/plain": [
       "'a'"
      ]
     },
     "execution_count": 6,
     "metadata": {},
     "output_type": "execute_result"
    }
   ],
   "source": [
    "next(a)"
   ]
  },
  {
   "cell_type": "code",
   "execution_count": 7,
   "id": "0fa4d0a4-2be1-44ee-8872-64ba2ca61eb7",
   "metadata": {},
   "outputs": [
    {
     "data": {
      "text/plain": [
       "'y'"
      ]
     },
     "execution_count": 7,
     "metadata": {},
     "output_type": "execute_result"
    }
   ],
   "source": [
    "next(a)"
   ]
  },
  {
   "cell_type": "code",
   "execution_count": 8,
   "id": "bd855b2f-4b97-46c9-8972-2d21ec3af9b3",
   "metadata": {},
   "outputs": [
    {
     "data": {
      "text/plain": [
       "1"
      ]
     },
     "execution_count": 8,
     "metadata": {},
     "output_type": "execute_result"
    }
   ],
   "source": [
    "a = iter([1,2,3,4])\n",
    "next(a)"
   ]
  },
  {
   "cell_type": "code",
   "execution_count": 9,
   "id": "1a829e93-174a-43a3-8d5a-793c8e5b458b",
   "metadata": {},
   "outputs": [
    {
     "data": {
      "text/plain": [
       "2"
      ]
     },
     "execution_count": 9,
     "metadata": {},
     "output_type": "execute_result"
    }
   ],
   "source": [
    "next(a)"
   ]
  },
  {
   "cell_type": "code",
   "execution_count": 10,
   "id": "c6c1af10-9d6e-4a65-a81a-08dca0e081e6",
   "metadata": {},
   "outputs": [
    {
     "data": {
      "text/plain": [
       "3"
      ]
     },
     "execution_count": 10,
     "metadata": {},
     "output_type": "execute_result"
    }
   ],
   "source": [
    "next(a)"
   ]
  },
  {
   "cell_type": "code",
   "execution_count": 11,
   "id": "f2646332-a601-4cde-9374-1cf79a1dca32",
   "metadata": {},
   "outputs": [
    {
     "data": {
      "text/plain": [
       "4"
      ]
     },
     "execution_count": 11,
     "metadata": {},
     "output_type": "execute_result"
    }
   ],
   "source": [
    "next(a)"
   ]
  },
  {
   "cell_type": "code",
   "execution_count": 14,
   "id": "957f1464-dbbc-4c9f-9724-352dc7c94510",
   "metadata": {},
   "outputs": [],
   "source": [
    "t = iter((1,2,3))"
   ]
  },
  {
   "cell_type": "code",
   "execution_count": 15,
   "id": "ae702388-7955-4481-952c-781d39da28ae",
   "metadata": {},
   "outputs": [
    {
     "data": {
      "text/plain": [
       "1"
      ]
     },
     "execution_count": 15,
     "metadata": {},
     "output_type": "execute_result"
    }
   ],
   "source": [
    "next(t)"
   ]
  },
  {
   "cell_type": "code",
   "execution_count": 16,
   "id": "01402ea0-c448-4d86-92cf-6b68f18590e9",
   "metadata": {},
   "outputs": [
    {
     "data": {
      "text/plain": [
       "2"
      ]
     },
     "execution_count": 16,
     "metadata": {},
     "output_type": "execute_result"
    }
   ],
   "source": [
    "next(t)"
   ]
  },
  {
   "cell_type": "code",
   "execution_count": 17,
   "id": "44973d79-cb40-4dab-ae7a-49d27912775d",
   "metadata": {},
   "outputs": [
    {
     "data": {
      "text/plain": [
       "3"
      ]
     },
     "execution_count": 17,
     "metadata": {},
     "output_type": "execute_result"
    }
   ],
   "source": [
    "next(t)"
   ]
  },
  {
   "cell_type": "code",
   "execution_count": 19,
   "id": "3c4dbbdc-7ca4-48a5-9b5c-cf34e87c68ee",
   "metadata": {},
   "outputs": [
    {
     "data": {
      "text/plain": [
       "1"
      ]
     },
     "execution_count": 19,
     "metadata": {},
     "output_type": "execute_result"
    }
   ],
   "source": [
    "s = iter({1,2}) #set\n",
    "next(s)"
   ]
  },
  {
   "cell_type": "code",
   "execution_count": 20,
   "id": "2a6f6cdb-7cb3-4a8a-b261-9260992151fc",
   "metadata": {},
   "outputs": [
    {
     "data": {
      "text/plain": [
       "2"
      ]
     },
     "execution_count": 20,
     "metadata": {},
     "output_type": "execute_result"
    }
   ],
   "source": [
    "next(s)"
   ]
  },
  {
   "cell_type": "code",
   "execution_count": 22,
   "id": "422f2469-ea8b-4abe-8757-255d23b8de50",
   "metadata": {},
   "outputs": [
    {
     "data": {
      "text/plain": [
       "'WB'"
      ]
     },
     "execution_count": 22,
     "metadata": {},
     "output_type": "execute_result"
    }
   ],
   "source": [
    "d = iter({'WB':'Kol' , 'Raj':'Jaip'})\n",
    "next(d)"
   ]
  },
  {
   "cell_type": "code",
   "execution_count": 23,
   "id": "f328c55d-f187-4573-b92c-922d0444cc36",
   "metadata": {},
   "outputs": [
    {
     "data": {
      "text/plain": [
       "'Raj'"
      ]
     },
     "execution_count": 23,
     "metadata": {},
     "output_type": "execute_result"
    }
   ],
   "source": [
    "next(d)"
   ]
  },
  {
   "cell_type": "code",
   "execution_count": 26,
   "id": "3a504e8b-74d2-4779-b079-5a4337247d03",
   "metadata": {},
   "outputs": [
    {
     "name": "stdout",
     "output_type": "stream",
     "text": [
      "0 9 5 "
     ]
    }
   ],
   "source": [
    "# the for loop also checks whether the object\n",
    "# stated is iterable or not , if it is , the for\n",
    "# converts the iterable into an iterator and then\n",
    "# executes whatever is there inside the loop.\n",
    "\n",
    "# for eg:\n",
    "l = [0,9,5]\n",
    "for i in l :\n",
    "    print(i,end=\" \")"
   ]
  },
  {
   "cell_type": "code",
   "execution_count": 27,
   "id": "48fd39b6-950b-4525-a5e6-eb5869ddf4cf",
   "metadata": {},
   "outputs": [
    {
     "data": {
      "text/plain": [
       "[0, 1, 4, 9, 16]"
      ]
     },
     "execution_count": 27,
     "metadata": {},
     "output_type": "execute_result"
    }
   ],
   "source": [
    "'''\n",
    "Generators >> is a type of function which\n",
    "doesnt return a single value , instead returns\n",
    "an iterator object.\n",
    "\n",
    "'''\n",
    "# regular function\n",
    "def square_no(n):\n",
    "    result = []\n",
    "    for i in range(n):\n",
    "        result.append(i**2)\n",
    "    return result\n",
    "square_no(5)"
   ]
  },
  {
   "cell_type": "code",
   "execution_count": 28,
   "id": "a1ae19b5-9052-4a7a-a012-14dc972f2495",
   "metadata": {},
   "outputs": [],
   "source": [
    "# In generators instead of using return(in regular\n",
    "# function) , we shall use 'yield'.\n",
    "# Generator functions are used to create iterators\n",
    "# in a more concise and memory efficient manner.\n",
    "# They allow us to iterate over a large sequence\n",
    "# of data.\n"
   ]
  },
  {
   "cell_type": "code",
   "execution_count": 40,
   "id": "53554a40-cb26-40af-8337-1ee77a2f0810",
   "metadata": {},
   "outputs": [],
   "source": [
    "def square_numbers_generator(n):\n",
    "    for i in range(n):\n",
    "        yield i**2\n"
   ]
  },
  {
   "cell_type": "code",
   "execution_count": 32,
   "id": "9e902716-539d-4c80-a490-9c4205cc90fb",
   "metadata": {},
   "outputs": [],
   "source": [
    "# this object can be iterated\n",
    "\n",
    "gen = square_numbers_generator(5)"
   ]
  },
  {
   "cell_type": "code",
   "execution_count": 33,
   "id": "72d9243a-2944-4852-8673-c6b52bb5d24a",
   "metadata": {},
   "outputs": [
    {
     "data": {
      "text/plain": [
       "<generator object square_numbers_generator at 0x7f37246399a0>"
      ]
     },
     "execution_count": 33,
     "metadata": {},
     "output_type": "execute_result"
    }
   ],
   "source": [
    "gen"
   ]
  },
  {
   "cell_type": "code",
   "execution_count": 34,
   "id": "98439c1a-6586-47ce-8c86-1a8c7dcad894",
   "metadata": {},
   "outputs": [
    {
     "data": {
      "text/plain": [
       "0"
      ]
     },
     "execution_count": 34,
     "metadata": {},
     "output_type": "execute_result"
    }
   ],
   "source": [
    "next(gen)"
   ]
  },
  {
   "cell_type": "code",
   "execution_count": 35,
   "id": "889512b4-05bb-4b0a-8af9-71f6c17bfd04",
   "metadata": {},
   "outputs": [
    {
     "data": {
      "text/plain": [
       "1"
      ]
     },
     "execution_count": 35,
     "metadata": {},
     "output_type": "execute_result"
    }
   ],
   "source": [
    "next(gen)"
   ]
  },
  {
   "cell_type": "code",
   "execution_count": 36,
   "id": "9812a78d-372f-47ab-8b71-b27945a1386b",
   "metadata": {},
   "outputs": [
    {
     "data": {
      "text/plain": [
       "4"
      ]
     },
     "execution_count": 36,
     "metadata": {},
     "output_type": "execute_result"
    }
   ],
   "source": [
    "next(gen)"
   ]
  },
  {
   "cell_type": "code",
   "execution_count": 37,
   "id": "bbb04258-c620-4a06-b0d4-77000e96abad",
   "metadata": {},
   "outputs": [
    {
     "data": {
      "text/plain": [
       "9"
      ]
     },
     "execution_count": 37,
     "metadata": {},
     "output_type": "execute_result"
    }
   ],
   "source": [
    "next(gen)"
   ]
  },
  {
   "cell_type": "code",
   "execution_count": 38,
   "id": "61ece6e6-54b4-45f7-852e-a0880d693d27",
   "metadata": {},
   "outputs": [
    {
     "data": {
      "text/plain": [
       "16"
      ]
     },
     "execution_count": 38,
     "metadata": {},
     "output_type": "execute_result"
    }
   ],
   "source": [
    "next(gen)"
   ]
  },
  {
   "cell_type": "code",
   "execution_count": 39,
   "id": "ad41efa0-3854-40dc-925e-dadad1bb83c4",
   "metadata": {},
   "outputs": [
    {
     "ename": "StopIteration",
     "evalue": "",
     "output_type": "error",
     "traceback": [
      "\u001b[0;31m---------------------------------------------------------------------------\u001b[0m",
      "\u001b[0;31mStopIteration\u001b[0m                             Traceback (most recent call last)",
      "Cell \u001b[0;32mIn[39], line 1\u001b[0m\n\u001b[0;32m----> 1\u001b[0m \u001b[38;5;28;43mnext\u001b[39;49m\u001b[43m(\u001b[49m\u001b[43mgen\u001b[49m\u001b[43m)\u001b[49m\n",
      "\u001b[0;31mStopIteration\u001b[0m: "
     ]
    }
   ],
   "source": [
    "next(gen)"
   ]
  },
  {
   "cell_type": "code",
   "execution_count": 42,
   "id": "754ae67c-9b00-406f-870a-26eb47fe4d82",
   "metadata": {},
   "outputs": [],
   "source": [
    "# So the diifference between return in regular\n",
    "# function and yield in generator function is that\n",
    "# return sends all stored (results)numbers at once but generator\n",
    "# sends the results one by one (by using next(gen) , its a lazy\n",
    "# calculator.\n",
    "# yield saves space , for eg we have 10 gb data , and we want to read\n",
    "# only first few data then using generator will save space than regular\n",
    "# function which stores and returns all data together at once. This is the\n",
    "# advantage of yield over return or generator over normal function.\n",
    "# Generator functions are memeory efficient and very useful for larger\n",
    "# datasets."
   ]
  },
  {
   "cell_type": "code",
   "execution_count": 43,
   "id": "2d6b6935-f3d7-4141-a689-556d1068ab2a",
   "metadata": {},
   "outputs": [
    {
     "data": {
      "text/plain": [
       "[0, 1, 2, 3, 4, 5, 6, 7, 8, 9]"
      ]
     },
     "execution_count": 43,
     "metadata": {},
     "output_type": "execute_result"
    }
   ],
   "source": [
    "list(range(10))"
   ]
  },
  {
   "cell_type": "code",
   "execution_count": 44,
   "id": "64a11fb1-552b-4588-ae8a-2da67f54add9",
   "metadata": {},
   "outputs": [],
   "source": [
    "# fibonacci series\n",
    "# 0,1,1,2,3,5,8,13...\n",
    "\n",
    "# lets say we need fibonacci numbers till 1 crore.\n",
    "# Machine will take huge time calculating it , so in that\n",
    "# case generator functions can be very useful to see\n",
    "# the first few numbers to see the pattern of it."
   ]
  },
  {
   "cell_type": "code",
   "execution_count": 45,
   "id": "7b51d10b-6d4c-44cf-b778-c3d0e6c83b36",
   "metadata": {},
   "outputs": [],
   "source": [
    "def fib(n):\n",
    "    a = 0\n",
    "    b = 1\n",
    "    for i in range(n):\n",
    "        yield a\n",
    "        a,b = b,a+b"
   ]
  },
  {
   "cell_type": "code",
   "execution_count": 48,
   "id": "037391cd-30e6-4267-be1d-0def73e1b91d",
   "metadata": {},
   "outputs": [],
   "source": [
    "f = fib(100000)"
   ]
  },
  {
   "cell_type": "code",
   "execution_count": 49,
   "id": "5452d880-cb92-4128-81fa-7bad133fdb2d",
   "metadata": {},
   "outputs": [
    {
     "data": {
      "text/plain": [
       "0"
      ]
     },
     "execution_count": 49,
     "metadata": {},
     "output_type": "execute_result"
    }
   ],
   "source": [
    "next(f)"
   ]
  },
  {
   "cell_type": "code",
   "execution_count": 50,
   "id": "70ec7a51-9d64-417e-8c97-34dad749113c",
   "metadata": {},
   "outputs": [
    {
     "data": {
      "text/plain": [
       "1"
      ]
     },
     "execution_count": 50,
     "metadata": {},
     "output_type": "execute_result"
    }
   ],
   "source": [
    "next(f)"
   ]
  },
  {
   "cell_type": "code",
   "execution_count": 51,
   "id": "d7cfaf2e-7ed6-453a-a593-b466d6530ced",
   "metadata": {},
   "outputs": [
    {
     "data": {
      "text/plain": [
       "1"
      ]
     },
     "execution_count": 51,
     "metadata": {},
     "output_type": "execute_result"
    }
   ],
   "source": [
    "next(f)"
   ]
  },
  {
   "cell_type": "code",
   "execution_count": 52,
   "id": "06fa6f35-c409-4560-8bd9-bf240472d6ed",
   "metadata": {},
   "outputs": [
    {
     "data": {
      "text/plain": [
       "2"
      ]
     },
     "execution_count": 52,
     "metadata": {},
     "output_type": "execute_result"
    }
   ],
   "source": [
    "next(f)"
   ]
  },
  {
   "cell_type": "code",
   "execution_count": 53,
   "id": "f61d1eaf-9307-4058-af7a-8da2f4653fa8",
   "metadata": {},
   "outputs": [
    {
     "data": {
      "text/plain": [
       "3"
      ]
     },
     "execution_count": 53,
     "metadata": {},
     "output_type": "execute_result"
    }
   ],
   "source": [
    "next(f)"
   ]
  },
  {
   "cell_type": "code",
   "execution_count": 54,
   "id": "8813f4c4-1a24-4d7f-89ed-2b4f7eca0f25",
   "metadata": {},
   "outputs": [
    {
     "data": {
      "text/plain": [
       "5"
      ]
     },
     "execution_count": 54,
     "metadata": {},
     "output_type": "execute_result"
    }
   ],
   "source": [
    "next(f)"
   ]
  },
  {
   "cell_type": "code",
   "execution_count": 55,
   "id": "f94b8d72-7d1c-403f-8f14-fdff1ceb88be",
   "metadata": {},
   "outputs": [],
   "source": [
    "# That's its advantage , memory efficient ,\n",
    "# its not using memory in one go. It calculates\n",
    "# lazily."
   ]
  },
  {
   "cell_type": "code",
   "execution_count": null,
   "id": "9467e662-ec72-4b6d-a28a-513cb2059f55",
   "metadata": {},
   "outputs": [],
   "source": []
  }
 ],
 "metadata": {
  "kernelspec": {
   "display_name": "Python 3 (ipykernel)",
   "language": "python",
   "name": "python3"
  },
  "language_info": {
   "codemirror_mode": {
    "name": "ipython",
    "version": 3
   },
   "file_extension": ".py",
   "mimetype": "text/x-python",
   "name": "python",
   "nbconvert_exporter": "python",
   "pygments_lexer": "ipython3",
   "version": "3.10.8"
  }
 },
 "nbformat": 4,
 "nbformat_minor": 5
}
